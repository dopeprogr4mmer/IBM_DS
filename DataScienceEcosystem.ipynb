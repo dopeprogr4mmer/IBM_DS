{
 "cells": [
  {
   "cell_type": "markdown",
   "id": "a61e48f8-8c0a-46e2-a81c-0b51508f5388",
   "metadata": {},
   "source": [
    "# Data Science Tools and Ecosystem"
   ]
  },
  {
   "cell_type": "markdown",
   "id": "5a12a7e8-7643-4a12-8a74-68e0bee4ad44",
   "metadata": {},
   "source": [
    "In this notebook, Data Science Tools and Ecosystem are summarized."
   ]
  },
  {
   "cell_type": "markdown",
   "id": "c6225f3b-719c-471b-b729-cf4a1d76ac5f",
   "metadata": {},
   "source": [
    "**Objectives**\n",
    "- List popular languages for Data Science\n",
    "- List commonly used libraries used by Data Scientists\n",
    "- List Data Science Tools\n",
    "- Evaluate arithmetic expressions in Python\n"
   ]
  },
  {
   "cell_type": "markdown",
   "id": "30fd965a-0481-430d-a936-f71bbef29cf6",
   "metadata": {},
   "source": [
    "Some of the popular languages that Data Scientists use are:\n",
    "1. Python\n",
    "2. R\n",
    "3. Scala\n",
    "4. Java"
   ]
  },
  {
   "cell_type": "markdown",
   "id": "fbe098a4-e0fe-407f-9568-3203787b1e12",
   "metadata": {},
   "source": [
    "Some of the commonly used libraries used by Data Scientists include:\n",
    "1. Matplotlib\n",
    "2. Skikit-learn\n",
    "3. Pandas\n",
    "4. Pytorch \n",
    "5. NumPy"
   ]
  },
  {
   "cell_type": "markdown",
   "id": "8b8c0ab4-c267-4bd2-a2b9-4927bc46c280",
   "metadata": {},
   "source": [
    "|**Data Science Tools**|\n",
    "|:-------------|\n",
    "|Jupyter Notebook|\n",
    "|Apache Spark|\n",
    "|RStudio|"
   ]
  },
  {
   "cell_type": "markdown",
   "id": "d2546655-c614-4d70-8f49-f26178e90293",
   "metadata": {},
   "source": [
    "### Below are a few examples of evaluating arithmetic expressions in Python \n"
   ]
  },
  {
   "cell_type": "code",
   "execution_count": 2,
   "id": "f2bee37e-6998-4ff7-981f-6c9ffe722932",
   "metadata": {
    "tags": []
   },
   "outputs": [
    {
     "data": {
      "text/plain": [
       "17"
      ]
     },
     "execution_count": 2,
     "metadata": {},
     "output_type": "execute_result"
    }
   ],
   "source": [
    "# This a simple arithmetic expression to mutiply then add integers\n",
    "(3*4)+5"
   ]
  },
  {
   "cell_type": "code",
   "execution_count": 3,
   "id": "61beb945-b95d-449d-9806-299c74abd4fb",
   "metadata": {
    "tags": []
   },
   "outputs": [
    {
     "data": {
      "text/plain": [
       "3.3333333333333335"
      ]
     },
     "execution_count": 3,
     "metadata": {},
     "output_type": "execute_result"
    }
   ],
   "source": [
    "# This will convert 200 minutes to hours by diving by 60\n",
    "200/60"
   ]
  },
  {
   "cell_type": "markdown",
   "id": "82e10d69-9e4b-4996-826d-386654af87ec",
   "metadata": {},
   "source": [
    "## Author \n",
    "Rahul Chouhan"
   ]
  }
 ],
 "metadata": {
  "kernelspec": {
   "display_name": "Python",
   "language": "python",
   "name": "conda-env-python-py"
  },
  "language_info": {
   "codemirror_mode": {
    "name": "ipython",
    "version": 3
   },
   "file_extension": ".py",
   "mimetype": "text/x-python",
   "name": "python",
   "nbconvert_exporter": "python",
   "pygments_lexer": "ipython3",
   "version": "3.7.12"
  }
 },
 "nbformat": 4,
 "nbformat_minor": 5
}
